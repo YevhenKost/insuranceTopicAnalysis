{
 "cells": [
  {
   "cell_type": "code",
   "execution_count": null,
   "metadata": {},
   "outputs": [],
   "source": [
    "import pandas as pd\n",
    "import numpy as np\n",
    "import os\n",
    "import datetime\n",
    "from math import ceil"
   ]
  },
  {
   "cell_type": "code",
   "execution_count": null,
   "metadata": {},
   "outputs": [],
   "source": [
    "PATH = 'PureData/PureData/'\n",
    "list_dir = os.listdir(PATH)"
   ]
  },
  {
   "cell_type": "code",
   "execution_count": null,
   "metadata": {},
   "outputs": [],
   "source": [
    "len(list_dir)"
   ]
  },
  {
   "cell_type": "code",
   "execution_count": null,
   "metadata": {},
   "outputs": [],
   "source": [
    "idx = 0\n",
    "df = pd.read_csv(PATH+list_dir[idx])\n",
    "print (list_dir[idx])\n",
    "\n",
    "df['dates'] = pd.to_datetime(df['dates'])\n",
    "\n",
    "df['Рік'] = df['dates'].apply(lambda x: x.year % 2000)\n",
    "df['Період'] = df['dates'].apply(lambda x: ceil(x.month / 3) )\n",
    "\n",
    "df['text'] = df['text'].apply(lambda x: x.replace('\\t', '').replace('\\n', ' ').replace('\\xa0', ''))\n",
    "\n",
    "\n",
    "df = df[['Рік', 'Період', 'text']]\n",
    "df.to_csv('n'+list_dir[idx], index=False)"
   ]
  },
  {
   "cell_type": "code",
   "execution_count": null,
   "metadata": {},
   "outputs": [],
   "source": [
    "idx = 1\n",
    "df = pd.read_csv(PATH+list_dir[idx])\n",
    "print (list_dir[idx])\n",
    "\n",
    "df['text'] = df['text'].apply(lambda x: x.replace('\\t', '').replace('\\n', ' ').replace('\\xa0', ''))\n",
    "\n",
    "df['Рік'] = df['text'].apply(lambda x: int(x.split()[2][-2:]) )\n",
    "df['Період'] = df['text'].apply(lambda x: x.split()[1] )\n",
    "\n",
    "dict_dates = {'декабря': 12 , 'октября': 10, 'сентября': 9,\n",
    "              'апреля': 4, 'марта': 3, 'февраля': 2,\n",
    "              'января': 1, 'ноября': 11, 'августа': 8,\n",
    "              'июля': 7, 'июня': 6, 'мая': 5}\n",
    "\n",
    "df['Період'] = df['Період'].apply(lambda x: ceil(dict_dates[x] / 3) )\n",
    "\n",
    "df = df[['Рік', 'Період', 'text']]\n",
    "df.to_csv('n'+list_dir[idx], index=False)"
   ]
  },
  {
   "cell_type": "code",
   "execution_count": null,
   "metadata": {},
   "outputs": [],
   "source": [
    "idx = 2\n",
    "df = pd.read_csv(PATH+list_dir[idx])\n",
    "print (list_dir[idx])\n",
    "\n",
    "df['dates'] = pd.to_datetime(df['dates'])\n",
    "\n",
    "df['Рік'] = df['dates'].apply(lambda x: x.year % 2000)\n",
    "df['Період'] = df['dates'].apply(lambda x: ceil(x.month / 3) )\n",
    "\n",
    "df['text'] = df['text'].apply(lambda x: x.replace('\\t', '').replace('\\n', ' ').replace('\\xa0', ''))\n",
    "\n",
    "\n",
    "df = df[['Рік', 'Період', 'text']]\n",
    "df.to_csv('n'+list_dir[idx], index=False)"
   ]
  },
  {
   "cell_type": "code",
   "execution_count": null,
   "metadata": {},
   "outputs": [],
   "source": [
    "idx = 3\n",
    "df = pd.read_csv(PATH+list_dir[idx])\n",
    "print (list_dir[idx])\n",
    "\n",
    "df['dates'] = pd.to_datetime(df['dates'])\n",
    "\n",
    "df['Рік'] = df['dates'].apply(lambda x: x.year % 2000)\n",
    "df['Період'] = df['dates'].apply(lambda x: ceil(x.month / 3) )\n",
    "\n",
    "df['text'] = df['text'].apply(lambda x: x.replace('\\t', '').replace('\\n', ' ').replace('\\xa0', ''))\n",
    "\n",
    "\n",
    "df = df[['Рік', 'Період', 'text']]\n",
    "df.to_csv('n'+list_dir[idx], index=False)"
   ]
  },
  {
   "cell_type": "code",
   "execution_count": null,
   "metadata": {},
   "outputs": [],
   "source": [
    "idx = 4\n",
    "df = pd.read_csv(PATH+list_dir[idx])\n",
    "print (list_dir[idx])\n",
    "\n",
    "df['dates'] = df['dates'].apply(lambda x: x + '1')\n",
    "df['dates'] = pd.to_datetime(df['dates'])\n",
    "\n",
    "df['Рік'] = df['dates'].apply(lambda x: x.year % 2000)\n",
    "df['Період'] = df['dates'].apply(lambda x: ceil(x.month / 3) )\n",
    "\n",
    "df['text'] = df['text'].apply(lambda x: x.replace('\\t', '').replace('\\n', ' ').replace('\\xa0', ''))\n",
    "\n",
    "df = df[['Рік', 'Період', 'text']]\n",
    "df.to_csv('n'+list_dir[idx], index=False)"
   ]
  },
  {
   "cell_type": "code",
   "execution_count": null,
   "metadata": {},
   "outputs": [],
   "source": [
    "idx = 5\n",
    "df = pd.read_csv(PATH+list_dir[idx])\n",
    "print (list_dir[idx])\n",
    "\n",
    "df['text'] = df['text'].apply(lambda x: x.replace('\\t', '').replace('\\n', ' ').replace('\\xa0', ''))\n",
    "\n",
    "df['Рік'] = df['dates'].apply(lambda x: int(x.split()[2][-3:-1]) )\n",
    "df['Період'] = df['dates'].apply(lambda x: x.split()[1] )\n",
    "\n",
    "dict_dates = {'грудня': 12 , 'жовтня': 10, 'вересня': 9,\n",
    "              'квітня': 4, 'березня': 3, 'лютого': 2,\n",
    "              'січня': 1, 'листопада': 11, 'серпня': 8,\n",
    "              'липня': 7, 'червня': 6, 'травня': 5}\n",
    "\n",
    "df['Період'] = df['Період'].apply(lambda x: ceil(dict_dates[x] / 3) )\n",
    "\n",
    "df = df[['Рік', 'Період', 'text', 'is_answer']]\n",
    "df.to_csv('n'+list_dir[idx], index=False)"
   ]
  },
  {
   "cell_type": "code",
   "execution_count": null,
   "metadata": {},
   "outputs": [],
   "source": [
    "idx = 6\n",
    "df = pd.read_csv(PATH+list_dir[idx])\n",
    "print (list_dir[idx])\n",
    "\n",
    "df['text'] = df['text'].apply(lambda x: x.replace('\\t', '').replace('\\n', ' ').replace('\\xa0', ''))\n",
    "\n",
    "df['Рік'] = df['dates'].apply(lambda x: int(x.split()[2][-2:]) )\n",
    "df['Період'] = df['dates'].apply(lambda x: x.split()[1] )\n",
    "\n",
    "dict_dates = {'грудня': 12 , 'жовтня': 10, 'вересня': 9,\n",
    "              'квітня': 4, 'березня': 3, 'лютого': 2,\n",
    "              'січня': 1, 'листопада': 11, 'серпня': 8,\n",
    "              'липня': 7, 'червня': 6, 'травня': 5}\n",
    "\n",
    "df['Період'] = df['Період'].apply(lambda x: ceil(dict_dates[x] / 3) )\n",
    "\n",
    "df = df[['Рік', 'Період', 'text']]\n",
    "df.to_csv('n'+list_dir[idx], index=False)"
   ]
  },
  {
   "cell_type": "code",
   "execution_count": null,
   "metadata": {},
   "outputs": [],
   "source": [
    "idx = 7\n",
    "df = pd.read_csv(PATH+list_dir[idx])\n",
    "print (list_dir[idx])\n",
    "\n",
    "df['dates'] = pd.to_datetime(df['dates'])\n",
    "\n",
    "df['Рік'] = df['dates'].apply(lambda x: x.year % 2000)\n",
    "df['Період'] = df['dates'].apply(lambda x: ceil(x.month / 3) )\n",
    "\n",
    "df['text'] = df['text'].apply(lambda x: x.replace('\\t', '').replace('\\n', ' ').replace('\\xa0', ''))\n",
    "\n",
    "\n",
    "df = df[['Рік', 'Період', 'text']]\n",
    "df.to_csv('n'+list_dir[idx], index=False)"
   ]
  },
  {
   "cell_type": "code",
   "execution_count": null,
   "metadata": {},
   "outputs": [],
   "source": [
    "idx = 8\n",
    "df = pd.read_csv(PATH+list_dir[idx])\n",
    "print (list_dir[idx])\n",
    "\n",
    "df['dates'] = pd.to_datetime(df['dates'])\n",
    "\n",
    "df['Рік'] = df['dates'].apply(lambda x: x.year % 2000)\n",
    "df['Період'] = df['dates'].apply(lambda x: ceil(x.month / 3) )\n",
    "\n",
    "df['text'] = df['text'].apply(lambda x: x.replace('\\t', '').replace('\\n', ' ').replace('\\xa0', ''))\n",
    "\n",
    "\n",
    "df = df[['Рік', 'Період', 'text']]\n",
    "df.to_csv('n'+list_dir[idx], index=False)"
   ]
  },
  {
   "cell_type": "code",
   "execution_count": null,
   "metadata": {},
   "outputs": [],
   "source": [
    "idx = 9\n",
    "file = 'epravda_general_news.csv'\n",
    "df = pd.read_csv(PATH+file)\n",
    "print (file)\n",
    "\n",
    "df['dates'] = pd.to_datetime(df['dates'])\n",
    "\n",
    "df['Рік'] = df['dates'].apply(lambda x: x.year % 2000)\n",
    "df['Період'] = df['dates'].apply(lambda x: ceil(x.month / 3) )\n",
    "\n",
    "df['text'] = df['text'].apply(lambda x: x.replace('\\t', '').replace('\\n', ' ').replace('\\xa0', ''))\n",
    "\n",
    "df = df[['Рік', 'Період', 'text']]\n",
    "df.to_csv('n'+file, index=False)"
   ]
  },
  {
   "cell_type": "code",
   "execution_count": null,
   "metadata": {},
   "outputs": [],
   "source": [
    "Folder = 'ProcessedData/'"
   ]
  },
  {
   "cell_type": "code",
   "execution_count": null,
   "metadata": {},
   "outputs": [],
   "source": [
    "for f in os.listdir(Folder):\n",
    "    df = pd.read_csv(Folder+f)\n",
    "    df.head()"
   ]
  },
  {
   "cell_type": "code",
   "execution_count": null,
   "metadata": {},
   "outputs": [],
   "source": [
    "df.head()"
   ]
  }
 ],
 "metadata": {
  "kernelspec": {
   "display_name": "Python 3",
   "language": "python",
   "name": "python3"
  },
  "language_info": {
   "codemirror_mode": {
    "name": "ipython",
    "version": 3
   },
   "file_extension": ".py",
   "mimetype": "text/x-python",
   "name": "python",
   "nbconvert_exporter": "python",
   "pygments_lexer": "ipython3",
   "version": "3.6.9"
  }
 },
 "nbformat": 4,
 "nbformat_minor": 2
}

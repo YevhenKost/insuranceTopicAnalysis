{
 "cells": [
  {
   "cell_type": "code",
   "execution_count": null,
   "metadata": {},
   "outputs": [],
   "source": [
    "s = '<option value=\"50\">Авиа КАСКО</option><option value=\"76\">Агрострахование</option><option value=\"3\">Активы</option><option value=\"79\">Входящее перестрахование от резидентов</option><option value=\"11\">Гарантийный фонд</option><option value=\"43\">ДСАГО</option><option value=\"46\">Зеленая карта</option><option value=\"94\">Инвестиции в ОВГЗ</option><option value=\"9\">Исходящее перестрахование</option><option value=\"42\">КАСКО</option><option value=\"45\">Медицинское страхование (ДМС)</option><option value=\"88\">Морское страхование</option><option value=\"69\">Нераспределенная прибыль</option><option value=\"38\">ОСАГО</option><option value=\"52\">Обязательное авиастрахование</option><option value=\"89\">Ответственность судовладельца</option><option value=\"83\">Премии от физических лиц</option><option value=\"85\">Премии от юридических лиц</option><option value=\"93\">Прямое страхование</option><option value=\"2\">Собственный капитал</option><option value=\"63\">Страхование грузов и багажа</option><option value=\"48\">Страхование здоровья на случай болезни</option><option value=\"24\">Страхование имущества</option><option value=\"47\">Страхование от несчастного случая</option><option value=\"64\">Страхование от огневых рисков</option><option value=\"49\">Страхование туристов (медрасходов)</option><option value=\"6\">Страховые выплаты</option><option value=\"1\">Страховые премии</option><option value=\"4\">Страховые резервы</option><option value=\"65\">Темп роста премий</option><option value=\"10\">Уровень выплат</option><option value=\"80\">Чистые страховые премии</option></select>'"
   ]
  },
  {
   "cell_type": "code",
   "execution_count": null,
   "metadata": {
    "scrolled": true
   },
   "outputs": [],
   "source": [
    "import re\n",
    "import requests\n",
    "import lxml.html as lh\n",
    "import numpy as np\n",
    "import pandas as pd\n",
    "\n",
    "names=re.findall(r'>(.*?)<', s)\n",
    "idx=re.findall(r'\"(.*?)\"', s)\n",
    "names=[names[2*i] for i in range(len(idx))]\n",
    "\n",
    "THEMES=dict(zip(names, idx))\n",
    "\n",
    "\n",
    "NAMES=['АХА', 'АХА СТРАХОВАНИЕ', 'ARX']\n",
    "YEARS=[i for i in range(14, 20)]\n",
    "PERIODS=[3, 6, 9, 12]\n",
    "\n",
    "URL='https://forinsurer.com/ratings/nonlife/{}/{}/{}'\n"
   ]
  },
  {
   "cell_type": "code",
   "execution_count": null,
   "metadata": {},
   "outputs": [],
   "source": [
    "def bad_condition(a, b):\n",
    "    if (a[0] in b): return int(np.where(b==a[0])[0])\n",
    "    if (a[1] in b): return int(np.where(b==a[1])[0])\n",
    "    if (a[2] in b): return int(np.where(b==a[2])[0])\n",
    "    return False"
   ]
  },
  {
   "cell_type": "code",
   "execution_count": null,
   "metadata": {},
   "outputs": [],
   "source": [
    "df = pd.DataFrame(columns = ['Рік', 'Період']+list(THEMES.keys()))"
   ]
  },
  {
   "cell_type": "code",
   "execution_count": null,
   "metadata": {},
   "outputs": [],
   "source": [
    "idx=0\n",
    "\n",
    "for year in YEARS:\n",
    "    for period in PERIODS:\n",
    "        \n",
    "        list_of_y_p = [year, period]\n",
    "        for theme in THEMES:\n",
    "            \n",
    "            \n",
    "            html = requests.get(URL.format(year, period, THEMES[theme])).content\n",
    "            df_list = pd.read_html(html,encoding='windows-1251')\n",
    "            \n",
    "            df_list = df_list[1]\n",
    "            \n",
    "            local_names = df_list[1].values\n",
    "            \n",
    "            rating = bad_condition(NAMES, local_names)\n",
    "            \n",
    "            if rating:\n",
    "                list_of_y_p.append(rating)\n",
    "            else:\n",
    "                list_of_y_p.append(np.nan)\n",
    "        \n",
    "        df.loc[idx] = list_of_y_p\n",
    "        idx+=1 \n",
    "            \n",
    "            \n",
    "        "
   ]
  },
  {
   "cell_type": "code",
   "execution_count": null,
   "metadata": {},
   "outputs": [],
   "source": [
    "df.to_csv('Ratings2.csv', index=False)"
   ]
  },
  {
   "cell_type": "code",
   "execution_count": null,
   "metadata": {},
   "outputs": [],
   "source": [
    "df2 = pd.DataFrame(columns = ['Рік', 'Період'] + list(THEMES.keys()))\n",
    "\n",
    "idx=0\n",
    "\n",
    "for year in YEARS:\n",
    "    for period in PERIODS:\n",
    "        list_of_y_p = [year, period]\n",
    "        for theme in THEMES:\n",
    "            \n",
    "            html = requests.get(URL.format(year, period, THEMES[theme])).content\n",
    "            df_list = pd.read_html(html,encoding='windows-1251')\n",
    "            \n",
    "            df_list = df_list[1]\n",
    "            \n",
    "            local_names = df_list[1].values\n",
    "            \n",
    "            rating = bad_condition(NAMES, local_names)\n",
    "            \n",
    "            if rating:\n",
    "                \n",
    "                local_col_names = df_list.iloc[0][2:].values\n",
    "                local_col_names = [str(ss).replace('\\xad', '') for ss in local_col_names if str(ss)!='nan' ] \n",
    "                \n",
    "                local_col_list = df_list.iloc[rating][2:]\n",
    "                \n",
    "                local_dict = dict(zip(local_col_names, local_col_list))\n",
    "                \n",
    "                list_of_y_p.append(local_dict)\n",
    "            else:\n",
    "                list_of_y_p.append(np.nan)\n",
    "        \n",
    "        \n",
    "        df2.loc[idx] = list_of_y_p\n",
    "        idx+=1 "
   ]
  },
  {
   "cell_type": "code",
   "execution_count": null,
   "metadata": {
    "scrolled": false
   },
   "outputs": [],
   "source": [
    "df2"
   ]
  },
  {
   "cell_type": "code",
   "execution_count": null,
   "metadata": {},
   "outputs": [],
   "source": []
  }
 ],
 "metadata": {
  "kernelspec": {
   "display_name": "Python 3",
   "language": "python",
   "name": "python3"
  },
  "language_info": {
   "codemirror_mode": {
    "name": "ipython",
    "version": 3
   },
   "file_extension": ".py",
   "mimetype": "text/x-python",
   "name": "python",
   "nbconvert_exporter": "python",
   "pygments_lexer": "ipython3",
   "version": "3.6.9"
  }
 },
 "nbformat": 4,
 "nbformat_minor": 2
}
